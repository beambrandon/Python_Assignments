{
 "cells": [
  {
   "cell_type": "code",
   "execution_count": 1,
   "metadata": {
    "tags": []
   },
   "outputs": [
    {
     "output_type": "stream",
     "name": "stdout",
     "text": "This is an armstrong number\n"
    }
   ],
   "source": [
    "num = input(\"Please enter a positive number :\")\n",
    "\n",
    "strong = len(num)\n",
    "i = 0\n",
    "summon = 0\n",
    "\n",
    " \n",
    "if not num.isdigit() :\n",
    "    print(\" It is an invalid entry. Don't use non-numeric, float, or negative values!\")\n",
    "elif float(num) < 0:\n",
    "    print(\" It is an invalid entry. Don't use non-numeric, float, or negative values!\")\n",
    "else:\n",
    "    while i < strong:\n",
    "        digit = int(num[i]) ** strong\n",
    "        summon += digit\n",
    "        i +=1\n",
    "    if summon == int(num):\n",
    "        print(\"This is an armstrong number\")\n",
    "    else:\n",
    "        print(\"This is not an armstrong number\")    "
   ]
  },
  {
   "cell_type": "code",
   "execution_count": null,
   "metadata": {},
   "outputs": [],
   "source": []
  }
 ],
 "metadata": {
  "kernelspec": {
   "name": "python_defaultSpec_1594233274025",
   "display_name": "Python 3.7.6 64-bit ('base': conda)"
  }
 },
 "nbformat": 4,
 "nbformat_minor": 4
}