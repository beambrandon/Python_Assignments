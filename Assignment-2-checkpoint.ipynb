{
 "cells": [
  {
   "cell_type": "code",
   "execution_count": null,
   "metadata": {},
   "outputs": [],
   "source": [
    "age = input(\"Are you a cigarette addict older than 75 years old?, Yes or No :\")\n",
    "chronic = input(\"Do you have a severe chronic disease?, Yes or No :\")\n",
    "immune = input(\"Is your immune system too weak?, Yes or No :\")\n",
    "\n",
    "if age.upper() == \"YES\":\n",
    "    age = True\n",
    "else:\n",
    "    age = False\n",
    "\n",
    "if chronic.upper() == \"YES\":\n",
    "    chronic = True\n",
    "else:\n",
    "    chronic = False\n",
    "\n",
    "if immune.upper() == \"YES\":\n",
    "    immune = True\n",
    "else:\n",
    "    immune = False\n",
    "\n",
    "if age or chronic or immune:\n",
    "    print(\"You are in risky group\")\n",
    "else:\n",
    "    print(\"You are not in risky group\")"
   ]
  },
  {
   "cell_type": "code",
   "execution_count": null,
   "metadata": {},
   "outputs": [],
   "source": []
  }
 ],
 "metadata": {
  "kernelspec": {
   "display_name": "Python 3",
   "language": "python",
   "name": "python3"
  },
  "language_info": {
   "codemirror_mode": {
    "name": "ipython",
    "version": 3
   },
   "file_extension": ".py",
   "mimetype": "text/x-python",
   "name": "python",
   "nbconvert_exporter": "python",
   "pygments_lexer": "ipython3",
   "version": "3.7.6"
  }
 },
 "nbformat": 4,
 "nbformat_minor": 4
}
